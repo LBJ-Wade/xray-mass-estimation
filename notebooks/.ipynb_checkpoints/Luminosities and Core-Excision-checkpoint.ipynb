{
 "cells": [
  {
   "cell_type": "markdown",
   "metadata": {},
   "source": [
    "## Generates a file called excised_lx.txt which contains the 15% R_500 core-excised luminosities of Box2, computed using the no-background images"
   ]
  },
  {
   "cell_type": "code",
   "execution_count": 4,
   "metadata": {},
   "outputs": [],
   "source": [
    "import numpy as np\n",
    "import matplotlib.pyplot as plt\n",
    "%matplotlib inline\n",
    "import pandas as pd\n",
    "from astropy.io import fits"
   ]
  },
  {
   "cell_type": "markdown",
   "metadata": {},
   "source": [
    "In this notebook, we're going to recompute the luminosities from the xspec code that Lorenzo sent us, then write functions for core-excision. The output of this notebook will be the following:\n",
    "\n",
    "1. For the N clusters, there will be an L500_obs, L500_ex,obs. (2N data points)\n",
    "2. We will generate a plot of L500_true vs. L500_obs (probably won't go in paper, but just to verify L values)"
   ]
  },
  {
   "cell_type": "markdown",
   "metadata": {},
   "source": [
    "From Lorenzo:\n",
    "\n",
    "I mean, the fact that we add the background does not change the luminosity of the cluster, which is still the one provided by Klaus. The presence of the background just decreases our ability to properly estimate the luminosity (which is one of the problems with observations); naively if you know perfectly the background (e.g. you take the background map that was added to the erosita image) you perfectly recover the Lx from Klaus.\n",
    "\n",
    "So, if you just need to know the intrinsic Lx of your cluster we can use the values from Klaus. **For the excised Lx you can use the erosita images without the background that I guess Michelle can create in a similar way as done with the ones including the background.**\n",
    "\n",
    "Instead if you want to simulate the same limitations that will have the observers we need to go though xspec I think. You first determine the background-subtracted count rate and then you use the script that I sent you. \n",
    "\n",
    "**Since we want to simulate what the observers will see, we should generate our own Lx values and then core-excise them here.**\n",
    "\n",
    "Steps:\n",
    "\n",
    "- count the number of photons in the region of interest \n",
    "- estimate the cluster temperature (maybe from an M-T relation)\n",
    "- varying the norm of apec model in XSPEC until the count rate match the value of your cluster \n",
    "- print out the corresponding flux and convert into a Lx\n",
    "\n",
    "Question:\n",
    "\n",
    "What is the most fair way to do these calculations? We know the cluster temperatures from Magneticum, but a real observer wouldn't know this, so what is the most fair way to truly get observer luminosities?"
   ]
  },
  {
   "cell_type": "markdown",
   "metadata": {},
   "source": [
    "In shell you just need to run \n",
    "\n",
    "xspec - lumin.tcl \n",
    "\n",
    "after having initialized heasoft in the shell. In principle it can be translated into a python code but I never did. \n",
    "\n",
    "Before running the script you need to create a file \"cluster.par\" which include almost all the parameters required by the script: column density, cluster temperature, cluster metallicity, redshift, count rate, exposure. E.g. \n",
    "\n",
    "echo -n 5E20 3.6 0.3 0.12 0.35 1600 >! cluster.par \n",
    "\n",
    "For the hydrogen column density and exposure you should used the values used to run the simulation.\n",
    "\n",
    "**Pending: Michelle send these two pieces of information (2000 seconds), Michelle sends no-background images, Michelle/Lorenzo suggest what temperature to use, Klaus responds with necessary data files**"
   ]
  },
  {
   "cell_type": "code",
   "execution_count": 5,
   "metadata": {},
   "outputs": [],
   "source": [
    "#in the mean time, we can write our functions to perform the core-excision\n",
    "#we load in the fits files and have the cluster information available\n",
    "#need the radii in pixels\n",
    "#then we count up all within the radii\n",
    "#we cound up the amount within 15% of the radii\n",
    "#simple math\n",
    "data_dir = '../data/'\n",
    "\n",
    "cluster_directory = '/home/sbg/magneticum_no_bg/' "
   ]
  },
  {
   "cell_type": "code",
   "execution_count": 6,
   "metadata": {},
   "outputs": [],
   "source": [
    "magneticum_data = np.load('/home/sbg/magneticum_no_bg/clusterList.npy')\n",
    "# make this into a pandas data frame\n",
    "magneticum_data = pd.DataFrame(data=magneticum_data, columns=magneticum_data.dtype.names)\n",
    "magneticum_data = magneticum_data.set_index('id')\n",
    "Nclusters = len(magneticum_data.index)"
   ]
  },
  {
   "cell_type": "code",
   "execution_count": 7,
   "metadata": {},
   "outputs": [],
   "source": [
    "def distance(x1, x2):\n",
    "    return np.sqrt((x1[0] - x2[0])**2 + (x1[1] - x2[1])**2)"
   ]
  },
  {
   "cell_type": "code",
   "execution_count": 8,
   "metadata": {},
   "outputs": [],
   "source": [
    "#make an array that is 384 x 384, and each element contains the 4 corners in the cell\n",
    "\n",
    "#so we say that we are within the radius if part of the pixel is within the radius,\n",
    "#not if its center is within radius\n",
    "#TODO: we should see how much things differ when we do this...\n",
    "img_shape_x, img_shape_y = fits.open(cluster_directory+'922603.fits')[0].data.shape\n",
    "center = np.array([img_shape_x, img_shape_y]) / 2.\n",
    "cell_dists = np.ndarray((img_shape_x, img_shape_y))\n",
    "for i in range(0, img_shape_x):\n",
    "    for j in range(0, img_shape_y):\n",
    "        #cell_dists[i,j] = distance(center, [i,j])\n",
    "        cell_dists[i,j] = np.min([distance(center,[i,j]), distance(center,[i+1,j]), \n",
    "                                  distance(center,[i,j+1]), distance(center,[i+1,j+1])])"
   ]
  },
  {
   "cell_type": "code",
   "execution_count": 9,
   "metadata": {},
   "outputs": [],
   "source": [
    "def core_excised_Lx(cluster_id, excise_rad_frac):\n",
    "    dat = fits.open(cluster_directory+'%d.fits' % cluster_id)[0].data\n",
    "    r500 = magneticum_data['R500_pixel'].loc[cluster_id]\n",
    "    total_mask = (cell_dists <= r500)\n",
    "    excise_mask = (cell_dists <= excise_rad_frac * r500)\n",
    "    Ntot = np.sum(dat[total_mask])\n",
    "    Ncore = np.sum(dat[excise_mask])\n",
    "    #print((Ntot-Ncore)/Ntot)\n",
    "    return (Ntot-Ncore)/Ntot * magneticum_data['Lx_ergs'].loc[cluster_id]\n",
    "\n",
    "def core_excised_counts(cluster_id, excise_rad_frac):\n",
    "    dat = fits.open(cluster_directory+'%d.fits' % cluster_id)[0].data\n",
    "    r500 = magneticum_data['R500_pixel'].loc[cluster_id]\n",
    "    total_mask = (cell_dists <= r500)\n",
    "    excise_mask = (cell_dists <= excise_rad_frac * r500)\n",
    "    Ntot = np.sum(dat[total_mask])\n",
    "    Ncore = np.sum(dat[excise_mask])\n",
    "    return(Ntot-Ncore)"
   ]
  },
  {
   "cell_type": "code",
   "execution_count": 10,
   "metadata": {},
   "outputs": [],
   "source": [
    "excised_counts = np.zeros(Nclusters)\n",
    "for i,cluster_id in enumerate(magneticum_data.index.values):\n",
    "    excised_counts[i] = core_excised_counts(cluster_id, 0.15)"
   ]
  },
  {
   "cell_type": "code",
   "execution_count": 11,
   "metadata": {},
   "outputs": [
    {
     "data": {
      "text/plain": [
       "Text(0.5, 0, '$\\\\log N_{ex}$')"
      ]
     },
     "execution_count": 11,
     "metadata": {},
     "output_type": "execute_result"
    },
    {
     "data": {
      "image/png": "[encoded data removed]",
      "text/plain": [
       "<Figure size 432x288 with 1 Axes>"
      ]
     },
     "metadata": {
      "needs_background": "light"
     },
     "output_type": "display_data"
    }
   ],
   "source": [
    "plt.hist(np.log10(excised_counts))\n",
    "plt.xlabel(r'$\\log N_{ex}$')"
   ]
  },
  {
   "cell_type": "code",
   "execution_count": 12,
   "metadata": {},
   "outputs": [],
   "source": [
    "#the dead center is the bottom corner of pixel 192 (counting from 0 as in python.)\n",
    "#this is same as saying (starting from 1) pixels (192-193) is the center, if pixels are defined from center\n",
    "#if we want to "
   ]
  },
  {
   "cell_type": "code",
   "execution_count": 13,
   "metadata": {},
   "outputs": [],
   "source": [
    "pix_corner_excised_Lx = np.zeros(Nclusters)\n",
    "for i,cluster_id in enumerate(magneticum_data.index.values):\n",
    "    pix_corner_excised_Lx[i] = core_excised_Lx(cluster_id, 0.15)"
   ]
  },
  {
   "cell_type": "code",
   "execution_count": 14,
   "metadata": {},
   "outputs": [],
   "source": [
    "#this is if we want to measure within R500 based on the pixel centers instead of nearest edge\n",
    "#pix_center_excised_Lx = np.zeros(Nclusters)\n",
    "#for i,cluster_id in enumerate(magneticum_data.index.values):\n",
    "#    pix_center_excised_Lx[i] = core_excised_Lx(cluster_id, 0.15)"
   ]
  },
  {
   "cell_type": "code",
   "execution_count": 15,
   "metadata": {},
   "outputs": [],
   "source": [
    "#plt.hist(np.log10(pix_corner_excised_Lx),alpha=0.5,label='Corner', bins=100)\n",
    "#plt.hist(np.log10(pix_center_excised_Lx),alpha=0.5,label='Center', bins=100)\n",
    "#plt.legend()\n",
    "\n",
    "#looks like the center values are larger, only slightly\n",
    "#this is because we are more likely to excise an extra ring of pixels if we use the center\n",
    "#i'll use the center, because it seems more reasonable to me, even though it makes very little difference"
   ]
  },
  {
   "cell_type": "code",
   "execution_count": 16,
   "metadata": {},
   "outputs": [],
   "source": [
    "#now, we want to save a list of the excised Lx values and the respective cluster ids,\n",
    "#to be loaded into our main file\n",
    "output = np.column_stack((magneticum_data.index.values, pix_corner_excised_Lx))\n",
    "np.savetxt(data_dir+'excised_lx.txt',output,fmt='%d %e')"
   ]
  }
 ],
 "metadata": {
  "kernelspec": {
   "display_name": "Python 3",
   "language": "python",
   "name": "python3"
  },
  "language_info": {
   "codemirror_mode": {
    "name": "ipython",
    "version": 3
   },
   "file_extension": ".py",
   "mimetype": "text/x-python",
   "name": "python",
   "nbconvert_exporter": "python",
   "pygments_lexer": "ipython3",
   "version": "3.6.8"
  },
  "varInspector": {
   "cols": {
    "lenName": 16,
    "lenType": 16,
    "lenVar": 40
   },
   "kernels_config": {
    "python": {
     "delete_cmd_postfix": "",
     "delete_cmd_prefix": "del ",
     "library": "var_list.py",
     "varRefreshCmd": "print(var_dic_list())"
    },
    "r": {
     "delete_cmd_postfix": ") ",
     "delete_cmd_prefix": "rm(",
     "library": "var_list.r",
     "varRefreshCmd": "cat(var_dic_list()) "
    }
   },
   "types_to_exclude": [
    "module",
    "function",
    "builtin_function_or_method",
    "instance",
    "_Feature"
   ],
   "window_display": false
  }
 },
 "nbformat": 4,
 "nbformat_minor": 2
}
